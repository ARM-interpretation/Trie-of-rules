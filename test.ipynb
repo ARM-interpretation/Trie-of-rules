{
 "cells": [
  {
   "cell_type": "code",
   "execution_count": 1,
   "metadata": {},
   "outputs": [],
   "source": [
    "%load_ext autoreload\n",
    "%autoreload 2"
   ]
  },
  {
   "cell_type": "code",
   "execution_count": 2,
   "metadata": {},
   "outputs": [],
   "source": [
    "\n",
    "from trieofrules import trieofrules\n",
    "\n",
    "\"\"\"\n",
    "general test:\n",
    "creates sample dataset\n",
    "creates trie\n",
    "\"\"\"\n",
    "data = [\n",
    "        ['f','c','a','m','p','q'],\n",
    "        ['f','c','a','b','m'],\n",
    "        ['f','b','e'],\n",
    "        ['c','b','p'],\n",
    "        ['f','c','a','m','p'] ]\n",
    "\n",
    "rules = [['f','c','a','m','p'],\n",
    "        ['f','b'],\n",
    "        ['c','b']\n",
    "        ]\n",
    "\n",
    "\n",
    "#TOR = trieofrules(data,0.1, alg = 'Apriori', frequent_sequences = rules)\n",
    "TOR = trieofrules(data,0.3)\n",
    "TOR.draw()\n",
    " "
   ]
  },
  {
   "cell_type": "code",
   "execution_count": null,
   "metadata": {},
   "outputs": [],
   "source": [
    "TOR.add_metrics(4)"
   ]
  },
  {
   "cell_type": "code",
   "execution_count": null,
   "metadata": {},
   "outputs": [],
   "source": [
    "import networkx\n",
    "g = networkx.DiGraph()\n",
    "g.add_node(0,value = 'a')\n",
    "g.add_node(1,value = 'b')\n",
    "g.add_node(2,value = 'c')\n",
    "g.add_edge(0,1)\n",
    "g.add_edge(0,2)\n",
    "for children in g.adj[0]:\n",
    "    print(g.nodes[children]['value'])\n"
   ]
  },
  {
   "cell_type": "code",
   "execution_count": null,
   "metadata": {},
   "outputs": [],
   "source": [
    "r = g.nodes[0]"
   ]
  },
  {
   "cell_type": "code",
   "execution_count": null,
   "metadata": {},
   "outputs": [],
   "source": [
    "r['smth']=15"
   ]
  },
  {
   "cell_type": "code",
   "execution_count": null,
   "metadata": {},
   "outputs": [],
   "source": [
    "r"
   ]
  },
  {
   "cell_type": "code",
   "execution_count": null,
   "metadata": {},
   "outputs": [],
   "source": [
    "g.nodes[0]"
   ]
  },
  {
   "cell_type": "code",
   "execution_count": null,
   "metadata": {},
   "outputs": [],
   "source": []
  }
 ],
 "metadata": {
  "kernelspec": {
   "display_name": "Python 3",
   "language": "python",
   "name": "python3"
  },
  "language_info": {
   "codemirror_mode": {
    "name": "ipython",
    "version": 3
   },
   "file_extension": ".py",
   "mimetype": "text/x-python",
   "name": "python",
   "nbconvert_exporter": "python",
   "pygments_lexer": "ipython3",
   "version": "3.6.4"
  }
 },
 "nbformat": 4,
 "nbformat_minor": 2
}
