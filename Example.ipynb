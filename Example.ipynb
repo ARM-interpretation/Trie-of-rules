{
 "cells": [
  {
   "cell_type": "markdown",
   "metadata": {},
   "source": [
    "##  Example of using \"Trie of rules\" library\n",
    "\n",
    "There are two options for using the library:\n",
    "\n",
    "1) having a data and minimum support value, create a Trie of rules with authomaticly generated association rrules using popular library(mlxtend: http://rasbt.github.io/mlxtend/user_guide/frequent_patterns/association_rules/)\n",
    "\n",
    "2) having original data, create a Trie of rules with previosly mined association rules(or frequent sequences). The association rules set should be presented as a list of items in a rule.\n",
    "\n",
    "Both approaches are provided below.\n"
   ]
  },
  {
   "cell_type": "code",
   "execution_count": 1,
   "metadata": {},
   "outputs": [],
   "source": [
    "%load_ext autoreload\n",
    "%autoreload 2"
   ]
  },
  {
   "cell_type": "code",
   "execution_count": 2,
   "metadata": {},
   "outputs": [],
   "source": [
    "from trieofrules import trieofrules\n",
    "\n",
    "#original dataset\n",
    "data = [\n",
    "        ['f','c','a','m','p','q'],\n",
    "        ['f','c','a','b','m'],\n",
    "        ['f','b','e'],\n",
    "        ['c','b','p'],\n",
    "        ['f','c','a','m','p'] ]\n",
    "\n",
    "#association rules for visualisation presented as a list of frequent sequences\n",
    "rules = [['f','c','a','m','p'],\n",
    "        ['f','b'],\n",
    "        ['c','b'],\n",
    "        ['f','c','q']\n",
    "        ]\n",
    "\n",
    "#1st approcah using only data\n",
    "TOR = trieofrules(data = data, min_support = 0.3, alg='FP-max' ) #supported algorithms: FP-max, FP-growth, Apriori\n",
    "\n",
    "#2nd approach using data and pre-mined frequent sequences\n",
    "TOR_premined = trieofrules(data = data, alg = 'Apriori', frequent_sequences = rules)\n",
    "\n",
    "#draw trie of rules without metics\n",
    "TOR_premined.draw()\n",
    "\n",
    "#save as a grpah file. Supprted formats: gexf, gml, graphml\n",
    "TOR.save_graph(filename = 'Trie of rules example.gml',fileformat = 'gml')\n",
    " "
   ]
  },
  {
   "cell_type": "markdown",
   "metadata": {},
   "source": [
    "## Bakery dataset example"
   ]
  },
  {
   "cell_type": "code",
   "execution_count": 3,
   "metadata": {},
   "outputs": [
    {
     "name": "stdout",
     "output_type": "stream",
     "text": [
      "9531\n"
     ]
    }
   ],
   "source": [
    "import pandas as pd\n",
    "\n",
    "data = pd.read_csv('datasets/BreadBasket_DMS.csv')\n",
    "data.head()\n",
    "transactions = []\n",
    "items = set()\n",
    "number_of_dirty_transactions = 0\n",
    "for el in data.groupby('Transaction'):\n",
    "    list_of_itmes= []\n",
    "    \n",
    "    for item in el[1]['Item']:\n",
    "        if item != \"NONE\":\n",
    "            list_of_itmes.append(item)\n",
    "            items.add(item)\n",
    "    transactions.append(list_of_itmes)\n",
    " \n",
    "\n",
    "transactions_without_dublicates = []\n",
    "for transaction in transactions:    \n",
    "    transactions_without_dublicates.append(list(dict.fromkeys(transaction)))\n",
    "#transactions_without_dublicates\n",
    "print(len(transactions_without_dublicates))\n"
   ]
  },
  {
   "cell_type": "code",
   "execution_count": 4,
   "metadata": {},
   "outputs": [],
   "source": [
    "TOR_bakery = trieofrules(data = transactions_without_dublicates, min_support = 0.02, alg='FP-max' ) \n",
    "TOR_bakery.save()\n"
   ]
  },
  {
   "cell_type": "code",
   "execution_count": 5,
   "metadata": {},
   "outputs": [
    {
     "name": "stdout",
     "output_type": "stream",
     "text": [
      "0.0009995003330834232\n",
      "0.010939940038334263\n",
      "0.02078253918252841\n",
      "0.03052920503482279\n",
      "0.04018178963283176\n",
      "0.04974209189481401\n",
      "0.05921185963184603\n",
      "0.06859279146561167\n",
      "0.0778865386570712\n",
      "0.08709470685093373\n",
      "0.0962188577405429\n",
      "0.10526051065749294\n",
      "0.11422114409002286\n",
      "0.1231021971339834\n",
      "0.1319050708799386\n",
      "0.14063112973974562\n",
      "0.14928170271575447\n",
      "0.15785808461558032\n",
      "0.16636153721522529\n",
      "0.1747932903731631\n",
      "0.18315454309784654\n",
      "0.19144646457095527\n",
      "0.1996701951285677\n",
      "0.20782684720231653\n",
      "0.21591750622247025\n",
      "0.223943231484774\n",
      "0.2319050569827826\n",
      "0.23980399220731693\n",
      "0.2476410229145973\n",
      "0.2554171118645054\n",
      "0.2631331995303682\n",
      "0.27079020478156274\n",
      "0.27838902554018824\n",
      "0.2859305394129745\n",
      "0.29341560429954144\n",
      "0.3008450589780618\n",
      "0.30821972366932904\n",
      "0.31554040058017735\n",
      "0.3228078744271551\n",
      "0.33002291294130587\n",
      "0.33718626735486995\n",
      "0.34429867287067695\n",
      "0.3513608491149636\n",
      "0.3583735005743139\n",
      "0.3653373170173851\n",
      "0.37225297390205087\n",
      "0.37912113276856246\n",
      "0.3859424416193005\n",
      "0.39271753528566167\n",
      "0.39944703578260143\n",
      "0.40613155265132483\n",
      "0.4127716832906026\n",
      "0.4193680132771557\n",
      "0.4259211166755468\n",
      "0.43243155633797864\n",
      "0.43889988419440185\n",
      "0.445326641533295\n",
      "0.4517123592734841\n",
      "0.45805755822733496\n",
      "0.4643627493556498\n",
      "0.4706284340145776\n",
      "0.47685510419483734\n",
      "0.48304324275353905\n",
      "0.4891933236388768\n",
      "0.4953058121079539\n",
      "0.501381164937991\n",
      "0.5074198306311578\n",
      "0.5134222496132567\n",
      "0.5193888544264785\n",
      "0.5253200699164432\n",
      "0.5312163134137248\n",
      "0.5370779949100564\n",
      "0.5429055172294024\n",
      "0.5486992761940721\n",
      "0.554459660786052\n",
      "0.5601870533037148\n",
      "0.5658818295140692\n",
      "0.5715443588006964\n",
      "0.5771750043075247\n",
      "0.5827741230785747\n",
      "0.5883420661938191\n",
      "0.5938791789012763\n",
      "0.5993858007454709\n",
      "0.6048622656923737\n",
      "0.6103089022509408\n",
      "0.6157260335913605\n",
      "0.6211139776601137\n",
      "0.6264730472919525\n",
      "0.6318035503188933\n",
      "0.6371057896763205\n",
      "0.6423800635062922\n",
      "0.647626665258136\n",
      "0.6528458837864196\n",
      "0.6580380034463774\n",
      "0.6632033041868731\n",
      "0.6683420616409742\n",
      "0.6734545472142092\n",
      "0.6785410281705831\n",
      "0.6836017677164138\n",
      "0.6886370250820593\n"
     ]
    }
   ],
   "source": [
    "import math\n",
    "for i in [i/1000 for i in range(1,1000,10)]:\n",
    "    print(math.log(i+1))"
   ]
  },
  {
   "cell_type": "code",
   "execution_count": null,
   "metadata": {},
   "outputs": [],
   "source": []
  }
 ],
 "metadata": {
  "kernelspec": {
   "display_name": "Python 3",
   "language": "python",
   "name": "python3"
  },
  "language_info": {
   "codemirror_mode": {
    "name": "ipython",
    "version": 3
   },
   "file_extension": ".py",
   "mimetype": "text/x-python",
   "name": "python",
   "nbconvert_exporter": "python",
   "pygments_lexer": "ipython3",
   "version": "3.6.4"
  }
 },
 "nbformat": 4,
 "nbformat_minor": 2
}
